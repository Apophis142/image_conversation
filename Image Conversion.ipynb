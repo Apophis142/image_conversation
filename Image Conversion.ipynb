{
 "cells": [
  {
   "cell_type": "markdown",
   "id": "7eb667f1-8e2b-4867-b71c-53e83b97ba37",
   "metadata": {},
   "source": [
    "Based on algorithm from article \"SIMPLE EFFECTIVE IMAGE AND VIDEO COLOR CORRECTION USING QUATERNION DISTANCE METRIC\" by Soo-Chang Pei and Yu-Zhe Hsiao"
   ]
  },
  {
   "cell_type": "code",
   "execution_count": 26,
   "id": "009d2f13-5eca-420f-b736-78849efdaa3f",
   "metadata": {},
   "outputs": [],
   "source": [
    "from PIL import Image\n",
    "from tqdm import tqdm\n",
    "from itertools import product\n",
    "\n",
    "import numpy as np\n",
    "import os\n",
    "from random import shuffle"
   ]
  },
  {
   "cell_type": "markdown",
   "id": "9bf99237-7cdd-4857-a28f-16d489fb2309",
   "metadata": {},
   "source": [
    "Quaternion class"
   ]
  },
  {
   "cell_type": "code",
   "execution_count": 27,
   "id": "86f89997-fe56-4761-8eb1-1d647daacc20",
   "metadata": {},
   "outputs": [],
   "source": [
    "class Vector:\n",
    "    def __init__(self, x, y, z):\n",
    "        self.x = x\n",
    "        self.y = y\n",
    "        self.z = z\n",
    "\n",
    "    def __add__(self, other):\n",
    "        return Vector(self.x + other.x, self.y + other.y, self.z + other.z)\n",
    "\n",
    "    def __mul__(self, other):\n",
    "        if isinstance(other, float) or isinstance(other, int):\n",
    "            return Vector(self.x * other, self.y * other, self.z * other)\n",
    "        else:\n",
    "            return self.x * other.x + self.y * other.y + self.z * other.z  # scalar product\n",
    "\n",
    "    def __rmul__(self, other):\n",
    "        return self * other\n",
    "\n",
    "    def __pow__(self, other):  # vector product\n",
    "        if isinstance(other, Vector):\n",
    "            return Vector(\n",
    "                self.y * other.z - self.z * other.y,\n",
    "                self.z * other.x - self.x * other.z,\n",
    "                self.x * other.y - self.y * other.x\n",
    "            )\n",
    "\n",
    "    def __str__(self):\n",
    "        return f\"Vec({self.x} {self.y} {self.z})\"\n",
    "\n",
    "    def __repr__(self):\n",
    "        return str(self)"
   ]
  },
  {
   "cell_type": "code",
   "execution_count": 28,
   "id": "267ef1a1-98f7-42ae-81d2-fb341fccd0a1",
   "metadata": {},
   "outputs": [],
   "source": [
    "class Quaternion:\n",
    "    def __init__(self, r, u):\n",
    "        self.r = r\n",
    "        self.u = u\n",
    "\n",
    "    def __add__(self, other):\n",
    "        return Quaternion(self.r + other.r, self.u + other.u)\n",
    "\n",
    "    def __mul__(self, other):\n",
    "        if isinstance(other, Quaternion):\n",
    "            return Quaternion(\n",
    "                self.r * other.r - self.u * other.u,\n",
    "                self.r * other.u + other.r * self.u + self.u ** other.u\n",
    "            )\n",
    "        else:\n",
    "            return Quaternion(self.r * other, self.u * other)\n",
    "\n",
    "    def __abs__(self):\n",
    "        return (self.r ** 2 + self.u * self.u) ** .5\n",
    "\n",
    "    def __pos__(self):  # conjugate operation\n",
    "        return Quaternion(self.r, self.u * (-1))\n",
    "\n",
    "    def __rmul__(self, other):\n",
    "        return self * other\n",
    "\n",
    "    def __str__(self):\n",
    "        return f\"{self.r} + {self.u}\"\n",
    "\n",
    "    def __repr__(self):\n",
    "        return str(self)"
   ]
  },
  {
   "cell_type": "markdown",
   "id": "7ce5a791-bfc1-4449-8acd-e9b062ea16a6",
   "metadata": {},
   "source": [
    "Image representation as Quaternion array"
   ]
  },
  {
   "cell_type": "code",
   "execution_count": 29,
   "id": "ad604bae-55dd-41a7-9cab-db4dbde379dd",
   "metadata": {},
   "outputs": [],
   "source": [
    "q3 = 3**.5 * Quaternion(0, Vector(1, 1, 1))  # transformation axis"
   ]
  },
  {
   "cell_type": "code",
   "execution_count": 30,
   "id": "b046e6d0-488c-4297-b340-86df42023e2c",
   "metadata": {},
   "outputs": [],
   "source": [
    "def mean_pixel_img(targ_img):\n",
    "    global q3\n",
    "    global ref_img\n",
    "    \n",
    "    width, height = RESIZE\n",
    "    res = [[0] * (height // MASK_SIZE) for _ in range(width // MASK_SIZE)]\n",
    "    for i in range(width // MASK_SIZE):\n",
    "        for j in range(height //  MASK_SIZE):\n",
    "            temp = Quaternion(0, Vector(0, 0, 0))\n",
    "            for k, l in product(range(MASK_SIZE), repeat=2):\n",
    "                q2 = Quaternion(0, Vector(*ref_img.getpixel((i * MASK_SIZE + k, j * MASK_SIZE + l))))\n",
    "                q1 = Quaternion(0, Vector(*targ_img.getpixel((i * MASK_SIZE + k, j * MASK_SIZE + l))))\n",
    "                temp += q2 + q3 * q1 * (+q3)\n",
    "                \n",
    "            res[i][j] = temp * (1 / MASK_SIZE**2)\n",
    "    \n",
    "    return res"
   ]
  },
  {
   "cell_type": "markdown",
   "id": "d0642b00-4a27-4255-9239-4164f8ea8344",
   "metadata": {},
   "source": [
    "Color distance calculation"
   ]
  },
  {
   "cell_type": "code",
   "execution_count": 31,
   "id": "8ba770b3-d6e7-419a-b3f5-5d83adb4989a",
   "metadata": {},
   "outputs": [],
   "source": [
    "def func_CD(q1, q2):  # color distance\n",
    "    return DISTANCE_WEIGHTING * abs(func_Q(q1, q2)) + (1 - DISTANCE_WEIGHTING) * abs(func_I(q1, q2))"
   ]
  },
  {
   "cell_type": "code",
   "execution_count": 32,
   "id": "982eeba0-4aa5-444f-9fa8-cee9d5ece2cb",
   "metadata": {},
   "outputs": [],
   "source": [
    "def func_I(q1, q2):  # luminance distance\n",
    "    return (q2.u.x - q1.u.x + q2.u.y - q1.u.y + q2.u.z - q1.u.z) / 3"
   ]
  },
  {
   "cell_type": "code",
   "execution_count": 33,
   "id": "20032e5f-5ab9-4f79-a8f1-b9b1f250e519",
   "metadata": {},
   "outputs": [],
   "source": [
    "def func_Q(q1, q2):  # chromatically difference\n",
    "    global q3\n",
    "    \n",
    "    q4 = q2 + q3 * q1 * (+q3)\n",
    "    r, g, b = q4.u.x, q4.u.y, q4.u.z\n",
    "    m = (r + g + b) / 3\n",
    "    return Quaternion(0, Vector(r - m, g - m, b - m))"
   ]
  },
  {
   "cell_type": "code",
   "execution_count": 34,
   "id": "874bbd0a-51c9-493d-a4b2-0680a731157c",
   "metadata": {},
   "outputs": [],
   "source": [
    "def calc_CD(pixel):\n",
    "    global mean_pixel_ref_img\n",
    "    \n",
    "    res = [float(\"inf\"), -1, -1]\n",
    "    for i, row in enumerate(mean_pixel_ref_img):\n",
    "        for j, el in enumerate(row):\n",
    "            dist = func_CD(pixel, el)\n",
    "            if dist < res[0]:\n",
    "                res = [dist, i, j]\n",
    "    return res"
   ]
  },
  {
   "cell_type": "markdown",
   "id": "7e6dab25-83dc-4594-ab00-20b6fd986098",
   "metadata": {},
   "source": [
    "Image Conversion"
   ]
  },
  {
   "cell_type": "code",
   "execution_count": 35,
   "id": "71fafb11-8017-4e75-874b-222d2b78f2b2",
   "metadata": {},
   "outputs": [],
   "source": [
    "def change_image(targ_img, matrix, filename_to_save):\n",
    "    def process_func(pixel):\n",
    "       return tuple(map(int, np.matmul(matrix, np.array(pixel).transpose())))\n",
    "\n",
    "    pixel_map = targ_img.load()\n",
    "    width, height = RESIZE\n",
    "    for i in range(width):\n",
    "        for j in range(height):\n",
    "            pixel_map[i, j] = process_func(targ_img.getpixel((i, j)))\n",
    "\n",
    "    targ_img.save(filename_to_save, format=\"jpeg\")"
   ]
  },
  {
   "cell_type": "code",
   "execution_count": 44,
   "id": "15e9db7a-cb28-4bb6-b06b-9664a7e184b0",
   "metadata": {},
   "outputs": [],
   "source": [
    "dir_in = \"C:\\\\Users\\\\809210\\\\Desktop\\\\l____l\\\\CITEC\\\\train-org-img\\\\\"\n",
    "dir_out = \"C:\\\\Users\\\\809210\\\\Desktop\\\\l____l\\\\CITEC\\\\dataset\\\\\""
   ]
  },
  {
   "cell_type": "code",
   "execution_count": 38,
   "id": "7426ff94-c845-4ca2-9fb9-e5c01f049f0c",
   "metadata": {},
   "outputs": [],
   "source": [
    "RESIZE = (640, 480)  # size of image after resize\n",
    "MASK_SIZE = 10\n",
    "N_PIXELS = RESIZE[0] * RESIZE[1]"
   ]
  },
  {
   "cell_type": "code",
   "execution_count": 4,
   "id": "9a6f4a95-9959-4a3e-82f3-4f2c44671aaf",
   "metadata": {},
   "outputs": [],
   "source": [
    "ref_dir = \"C:\\\\Users\\\\809210\\\\Desktop\\\\l____l\\\\CITEC\\\\ColorChecker_FoggyNight.jpg\"  # reference image for conversion"
   ]
  },
  {
   "cell_type": "code",
   "execution_count": 39,
   "id": "a5c0be93-062e-4f9d-9ef3-c7f95741aef2",
   "metadata": {},
   "outputs": [],
   "source": [
    "DISTANCE_WEIGHTING = .2  # from 0 to 1\n",
    "THRESOLD_VALUE = 75  # maximum distance for close colors"
   ]
  },
  {
   "cell_type": "code",
   "execution_count": 40,
   "id": "b77d027d-3018-464b-9024-eb4f4fd65bb6",
   "metadata": {},
   "outputs": [],
   "source": [
    "def converse_image(targ_img, filename_to_save):\n",
    "    def find_pixel(pixel):\n",
    "        return tuple(map(lambda c: c * MASK_SIZE + MASK_SIZE // 2, pixel))\n",
    "    \n",
    "    global ref_img\n",
    "    global mean_pixel_ref_img\n",
    "    \n",
    "    mean_pixel_targ_img = mean_pixel_img(targ_img)\n",
    "    \n",
    "    close_colors = []\n",
    "    with tqdm(total=N_PIXELS // MASK_SIZE**2, position=0, leave=False) as pbar2:\n",
    "        for i, row in enumerate(mean_pixel_targ_img):\n",
    "            for j, el in enumerate(row):\n",
    "                color_distance = calc_CD(el)\n",
    "                if color_distance[0] < THRESOLD_VALUE:\n",
    "                    close_colors += [((i, j), tuple(color_distance[1:]))]\n",
    "                pbar2.set_description(f\"({i} {j}: {color_distance[0]})\")\n",
    "                pbar2.update()\n",
    "\n",
    "    if len(close_colors) < 3:\n",
    "        return\n",
    "    a = []\n",
    "    b = []\n",
    "    for (targ_pix, ref_pix) in close_colors:\n",
    "        a += [find_pixel(ref_img.getpixel(ref_pix))]\n",
    "        b += [find_pixel(targ_img.getpixel(targ_pix))]\n",
    "    \n",
    "    converse_matrix = np.matmul(np.linalg.pinv(np.array(b)), np.array(a)).transpose()\n",
    "    change_image(targ_img, converse_matrix, filename_to_save)"
   ]
  },
  {
   "cell_type": "code",
   "execution_count": 41,
   "id": "b872f67f-d5b6-4b2b-ac9b-7e7da952837e",
   "metadata": {},
   "outputs": [],
   "source": [
    "filenames = tuple(*os.walk(dir_in))\n",
    "limit = 20\n",
    "start = 20\n",
    "counter = 0\n",
    "\n",
    "with Image.open(ref_dir).resize(RESIZE) as ref_img:\n",
    "    mean_pixel_ref_img = mean_pixel_img(ref_img)\n",
    "\n",
    "    with tqdm(total=limit, leave=True) as pbar:\n",
    "        for file in filenames[2][start:]:\n",
    "            with Image.open(dir_in + file).resize(RESIZE) as targ_img:\n",
    "                converse_image(targ_img, dir_out + file)\n",
    "            pbar.update()\n",
    "            counter += 1\n",
    "            if counter >= limit:\n",
    "                break"
   ]
  },
  {
   "cell_type": "code",
   "execution_count": 47,
   "id": "ed6248dd-5b56-4de5-95b9-5b01b75bcf66",
   "metadata": {},
   "outputs": [
    {
     "name": "stderr",
     "output_type": "stream",
     "text": [
      " 20%|████████████████                                                                | 4/20 [20:55<1:23:42, 313.91s/it]\n"
     ]
    },
    {
     "ename": "KeyboardInterrupt",
     "evalue": "",
     "output_type": "error",
     "traceback": [
      "\u001b[1;31m---------------------------------------------------------------------------\u001b[0m",
      "\u001b[1;31mKeyboardInterrupt\u001b[0m                         Traceback (most recent call last)",
      "Cell \u001b[1;32mIn[47], line 14\u001b[0m\n\u001b[0;32m     12\u001b[0m \u001b[38;5;28;01mfor\u001b[39;00m file \u001b[38;5;129;01min\u001b[39;00m filenames[\u001b[38;5;241m2\u001b[39m]:\n\u001b[0;32m     13\u001b[0m     \u001b[38;5;28;01mwith\u001b[39;00m Image\u001b[38;5;241m.\u001b[39mopen(dir_in \u001b[38;5;241m+\u001b[39m file)\u001b[38;5;241m.\u001b[39mresize(RESIZE) \u001b[38;5;28;01mas\u001b[39;00m targ_img:\n\u001b[1;32m---> 14\u001b[0m         \u001b[43mconverse_image\u001b[49m\u001b[43m(\u001b[49m\u001b[43mtarg_img\u001b[49m\u001b[43m,\u001b[49m\u001b[43m \u001b[49m\u001b[43mdir_out\u001b[49m\u001b[43m \u001b[49m\u001b[38;5;241;43m+\u001b[39;49m\u001b[43m \u001b[49m\u001b[43mcolor_map_ref\u001b[49m\u001b[43m \u001b[49m\u001b[38;5;241;43m+\u001b[39;49m\u001b[43m \u001b[49m\u001b[38;5;124;43m'\u001b[39;49m\u001b[38;5;130;43;01m\\\\\u001b[39;49;00m\u001b[38;5;124;43m'\u001b[39;49m\u001b[43m \u001b[49m\u001b[38;5;241;43m+\u001b[39;49m\u001b[43m \u001b[49m\u001b[43mfile\u001b[49m\u001b[43m)\u001b[49m\n\u001b[0;32m     15\u001b[0m     pbar\u001b[38;5;241m.\u001b[39mupdate()\n\u001b[0;32m     16\u001b[0m     counter \u001b[38;5;241m+\u001b[39m\u001b[38;5;241m=\u001b[39m \u001b[38;5;241m1\u001b[39m\n",
      "Cell \u001b[1;32mIn[40], line 8\u001b[0m, in \u001b[0;36mconverse_image\u001b[1;34m(targ_img, filename_to_save)\u001b[0m\n\u001b[0;32m      5\u001b[0m \u001b[38;5;28;01mglobal\u001b[39;00m ref_img\n\u001b[0;32m      6\u001b[0m \u001b[38;5;28;01mglobal\u001b[39;00m mean_pixel_ref_img\n\u001b[1;32m----> 8\u001b[0m mean_pixel_targ_img \u001b[38;5;241m=\u001b[39m \u001b[43mmean_pixel_img\u001b[49m\u001b[43m(\u001b[49m\u001b[43mtarg_img\u001b[49m\u001b[43m)\u001b[49m\n\u001b[0;32m     10\u001b[0m close_colors \u001b[38;5;241m=\u001b[39m []\n\u001b[0;32m     11\u001b[0m \u001b[38;5;28;01mwith\u001b[39;00m tqdm(total\u001b[38;5;241m=\u001b[39mN_PIXELS \u001b[38;5;241m/\u001b[39m\u001b[38;5;241m/\u001b[39m MASK_SIZE\u001b[38;5;241m*\u001b[39m\u001b[38;5;241m*\u001b[39m\u001b[38;5;241m2\u001b[39m, position\u001b[38;5;241m=\u001b[39m\u001b[38;5;241m0\u001b[39m, leave\u001b[38;5;241m=\u001b[39m\u001b[38;5;28;01mFalse\u001b[39;00m) \u001b[38;5;28;01mas\u001b[39;00m pbar2:\n",
      "Cell \u001b[1;32mIn[30], line 13\u001b[0m, in \u001b[0;36mmean_pixel_img\u001b[1;34m(targ_img)\u001b[0m\n\u001b[0;32m     11\u001b[0m             q2 \u001b[38;5;241m=\u001b[39m Quaternion(\u001b[38;5;241m0\u001b[39m, Vector(\u001b[38;5;241m*\u001b[39mref_img\u001b[38;5;241m.\u001b[39mgetpixel((i \u001b[38;5;241m*\u001b[39m MASK_SIZE \u001b[38;5;241m+\u001b[39m k, j \u001b[38;5;241m*\u001b[39m MASK_SIZE \u001b[38;5;241m+\u001b[39m l))))\n\u001b[0;32m     12\u001b[0m             q1 \u001b[38;5;241m=\u001b[39m Quaternion(\u001b[38;5;241m0\u001b[39m, Vector(\u001b[38;5;241m*\u001b[39mtarg_img\u001b[38;5;241m.\u001b[39mgetpixel((i \u001b[38;5;241m*\u001b[39m MASK_SIZE \u001b[38;5;241m+\u001b[39m k, j \u001b[38;5;241m*\u001b[39m MASK_SIZE \u001b[38;5;241m+\u001b[39m l))))\n\u001b[1;32m---> 13\u001b[0m             temp \u001b[38;5;241m+\u001b[39m\u001b[38;5;241m=\u001b[39m q2 \u001b[38;5;241m+\u001b[39m \u001b[43mq3\u001b[49m\u001b[43m \u001b[49m\u001b[38;5;241;43m*\u001b[39;49m\u001b[43m \u001b[49m\u001b[43mq1\u001b[49m \u001b[38;5;241m*\u001b[39m (\u001b[38;5;241m+\u001b[39mq3)\n\u001b[0;32m     15\u001b[0m         res[i][j] \u001b[38;5;241m=\u001b[39m temp \u001b[38;5;241m*\u001b[39m (\u001b[38;5;241m1\u001b[39m \u001b[38;5;241m/\u001b[39m MASK_SIZE\u001b[38;5;241m*\u001b[39m\u001b[38;5;241m*\u001b[39m\u001b[38;5;241m2\u001b[39m)\n\u001b[0;32m     17\u001b[0m \u001b[38;5;28;01mreturn\u001b[39;00m res\n",
      "Cell \u001b[1;32mIn[28], line 13\u001b[0m, in \u001b[0;36mQuaternion.__mul__\u001b[1;34m(self, other)\u001b[0m\n\u001b[0;32m      9\u001b[0m \u001b[38;5;28;01mdef\u001b[39;00m \u001b[38;5;21m__mul__\u001b[39m(\u001b[38;5;28mself\u001b[39m, other):\n\u001b[0;32m     10\u001b[0m     \u001b[38;5;28;01mif\u001b[39;00m \u001b[38;5;28misinstance\u001b[39m(other, Quaternion):\n\u001b[0;32m     11\u001b[0m         \u001b[38;5;28;01mreturn\u001b[39;00m Quaternion(\n\u001b[0;32m     12\u001b[0m             \u001b[38;5;28mself\u001b[39m\u001b[38;5;241m.\u001b[39mr \u001b[38;5;241m*\u001b[39m other\u001b[38;5;241m.\u001b[39mr \u001b[38;5;241m-\u001b[39m \u001b[38;5;28mself\u001b[39m\u001b[38;5;241m.\u001b[39mu \u001b[38;5;241m*\u001b[39m other\u001b[38;5;241m.\u001b[39mu,\n\u001b[1;32m---> 13\u001b[0m             \u001b[38;5;28mself\u001b[39m\u001b[38;5;241m.\u001b[39mr \u001b[38;5;241m*\u001b[39m other\u001b[38;5;241m.\u001b[39mu \u001b[38;5;241m+\u001b[39m other\u001b[38;5;241m.\u001b[39mr \u001b[38;5;241m*\u001b[39m \u001b[38;5;28mself\u001b[39m\u001b[38;5;241m.\u001b[39mu \u001b[38;5;241m+\u001b[39m \u001b[38;5;28;43mself\u001b[39;49m\u001b[38;5;241;43m.\u001b[39;49m\u001b[43mu\u001b[49m\u001b[43m \u001b[49m\u001b[38;5;241;43m*\u001b[39;49m\u001b[38;5;241;43m*\u001b[39;49m\u001b[43m \u001b[49m\u001b[43mother\u001b[49m\u001b[38;5;241;43m.\u001b[39;49m\u001b[43mu\u001b[49m\n\u001b[0;32m     14\u001b[0m         )\n\u001b[0;32m     15\u001b[0m     \u001b[38;5;28;01melse\u001b[39;00m:\n\u001b[0;32m     16\u001b[0m         \u001b[38;5;28;01mreturn\u001b[39;00m Quaternion(\u001b[38;5;28mself\u001b[39m\u001b[38;5;241m.\u001b[39mr \u001b[38;5;241m*\u001b[39m other, \u001b[38;5;28mself\u001b[39m\u001b[38;5;241m.\u001b[39mu \u001b[38;5;241m*\u001b[39m other)\n",
      "Cell \u001b[1;32mIn[27], line 23\u001b[0m, in \u001b[0;36mVector.__pow__\u001b[1;34m(self, other)\u001b[0m\n\u001b[0;32m     19\u001b[0m \u001b[38;5;28;01mdef\u001b[39;00m \u001b[38;5;21m__pow__\u001b[39m(\u001b[38;5;28mself\u001b[39m, other):  \u001b[38;5;66;03m# vector product\u001b[39;00m\n\u001b[0;32m     20\u001b[0m     \u001b[38;5;28;01mif\u001b[39;00m \u001b[38;5;28misinstance\u001b[39m(other, Vector):\n\u001b[0;32m     21\u001b[0m         \u001b[38;5;28;01mreturn\u001b[39;00m Vector(\n\u001b[0;32m     22\u001b[0m             \u001b[38;5;28mself\u001b[39m\u001b[38;5;241m.\u001b[39my \u001b[38;5;241m*\u001b[39m other\u001b[38;5;241m.\u001b[39mz \u001b[38;5;241m-\u001b[39m \u001b[38;5;28mself\u001b[39m\u001b[38;5;241m.\u001b[39mz \u001b[38;5;241m*\u001b[39m other\u001b[38;5;241m.\u001b[39my,\n\u001b[1;32m---> 23\u001b[0m             \u001b[38;5;28;43mself\u001b[39;49m\u001b[38;5;241;43m.\u001b[39;49m\u001b[43mz\u001b[49m \u001b[38;5;241m*\u001b[39m other\u001b[38;5;241m.\u001b[39mx \u001b[38;5;241m-\u001b[39m \u001b[38;5;28mself\u001b[39m\u001b[38;5;241m.\u001b[39mx \u001b[38;5;241m*\u001b[39m other\u001b[38;5;241m.\u001b[39mz,\n\u001b[0;32m     24\u001b[0m             \u001b[38;5;28mself\u001b[39m\u001b[38;5;241m.\u001b[39mx \u001b[38;5;241m*\u001b[39m other\u001b[38;5;241m.\u001b[39my \u001b[38;5;241m-\u001b[39m \u001b[38;5;28mself\u001b[39m\u001b[38;5;241m.\u001b[39my \u001b[38;5;241m*\u001b[39m other\u001b[38;5;241m.\u001b[39mx\n\u001b[0;32m     25\u001b[0m         )\n",
      "\u001b[1;31mKeyboardInterrupt\u001b[0m: "
     ]
    }
   ],
   "source": [
    "color_map_ref = \"CrispWinter\"\n",
    "ref_dir = \"C:\\\\Users\\\\809210\\\\Desktop\\\\l____l\\\\CITEC\\\\ColorChecker_\" + color_map_ref + \".jpg\"\n",
    "filenames = list(*os.walk(dir_in))\n",
    "shuffle(filenames[2])\n",
    "limit = 20\n",
    "counter = 0\n",
    "\n",
    "with Image.open(ref_dir).resize(RESIZE) as ref_img:\n",
    "    mean_pixel_ref_img = mean_pixel_img(ref_img)\n",
    "    \n",
    "    with tqdm(total=limit, leave=True) as pbar:\n",
    "        for file in filenames[2]:\n",
    "            with Image.open(dir_in + file).resize(RESIZE) as targ_img:\n",
    "                converse_image(targ_img, dir_out + color_map_ref + '\\\\' + file)\n",
    "            pbar.update()\n",
    "            counter += 1\n",
    "            if counter >= limit:\n",
    "                break"
   ]
  }
 ],
 "metadata": {
  "kernelspec": {
   "display_name": "Python 3 (ipykernel)",
   "language": "python",
   "name": "python3"
  },
  "language_info": {
   "codemirror_mode": {
    "name": "ipython",
    "version": 3
   },
   "file_extension": ".py",
   "mimetype": "text/x-python",
   "name": "python",
   "nbconvert_exporter": "python",
   "pygments_lexer": "ipython3",
   "version": "3.9.6"
  }
 },
 "nbformat": 4,
 "nbformat_minor": 5
}
