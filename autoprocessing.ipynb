{
 "cells": [
  {
   "cell_type": "code",
   "execution_count": null,
   "id": "e5ed0fcb-4917-4ec1-9838-86d0bd78e972",
   "metadata": {},
   "outputs": [],
   "source": [
    "!pip install selenium colormath"
   ]
  },
  {
   "cell_type": "markdown",
   "id": "f060b602-5ca4-4257-a313-d41e9f7a857f",
   "metadata": {},
   "source": [
    "# Автоматизация обработки изображений\n",
    "directory - директория с исходными изображениями\n",
    "время выполнения скрипта можно выводить в консоль, после выполнения кода с циклом посмотреть консоль"
   ]
  },
  {
   "cell_type": "code",
   "execution_count": 4,
   "id": "8f4261c9-1ca7-4138-9b8d-e1c8d418882b",
   "metadata": {},
   "outputs": [],
   "source": [
    "import os\n",
    "\n",
    "from selenium import webdriver\n",
    "from selenium.webdriver.common.by import By\n",
    "\n",
    "from time import sleep"
   ]
  },
  {
   "cell_type": "code",
   "execution_count": 5,
   "id": "5534e398-aad8-4063-97e5-560743a3f970",
   "metadata": {},
   "outputs": [],
   "source": [
    "driver = webdriver.Chrome()\n",
    "driver.get(\"https://citec-spbu.github.io/Auto-Color-Correction\")"
   ]
  },
  {
   "cell_type": "code",
   "execution_count": 6,
   "id": "0e27ff45-00bd-4740-997c-736ad7dd8bcc",
   "metadata": {},
   "outputs": [],
   "source": [
    "def upload_and_process(driver, filename):\n",
    "    file_input = driver.find_element(By.CSS_SELECTOR, \"input[type='file']\")\n",
    "    file_input.send_keys(filename)\n",
    "    driver.find_element(By.ID, \"processBtn\").click()\n",
    "    sleep(.2)\n",
    "    driver.find_element(By.ID, \"downloadBtn\").click()"
   ]
  },
  {
   "cell_type": "code",
   "execution_count": 10,
   "id": "d0dd73c6-3b7a-46c5-9dcf-caad46ad0465",
   "metadata": {},
   "outputs": [],
   "source": [
    "directory = \"C:\\\\Users\\\\809210\\\\Desktop\\\\l____l\\\\CITEC\\\\dataset\\\\FoggyNight\\\\\"\n",
    "for filename in list(os.walk(directory))[0][2]:\n",
    "    upload_and_process(driver, directory + filename)\n",
    "    sleep(2)\n",
    "    try:\n",
    "        os.rename(\"C:\\\\Users\\\\809210\\\\Downloads\\\\Обработанное изображение.png\",\n",
    "                  \"C:\\\\Users\\\\809210\\\\Downloads\\\\\" + filename[:-4] + \".png\")\n",
    "    except:\n",
    "        print(filename)\n",
    "    break"
   ]
  },
  {
   "cell_type": "markdown",
   "id": "0e1d8f74-784c-462b-8f10-b59e1549ce11",
   "metadata": {},
   "source": [
    "# Подсчет расстояния между картинками\n",
    "Требуется библиотека colormath, в файле colormath\\color_diff.py заменить строку 79 на return delta_e.item()"
   ]
  },
  {
   "cell_type": "code",
   "execution_count": 1,
   "id": "2f03c3ca-add4-426e-9e2d-546863eedf9f",
   "metadata": {},
   "outputs": [],
   "source": [
    "from cie2000 import calculate_cie2000\n",
    "from tqdm import tqdm"
   ]
  },
  {
   "cell_type": "code",
   "execution_count": 3,
   "id": "7ae4515d-457d-432c-8c40-bb06ee9ead20",
   "metadata": {},
   "outputs": [
    {
     "name": "stderr",
     "output_type": "stream",
     "text": [
      "100%|████████████████████████████████████████████████████████████████████████| 307200/307200 [02:56<00:00, 1740.92it/s]"
     ]
    },
    {
     "name": "stdout",
     "output_type": "stream",
     "text": [
      "21.872877787487138\n"
     ]
    },
    {
     "name": "stderr",
     "output_type": "stream",
     "text": [
      "\n"
     ]
    }
   ],
   "source": [
    "img2 = \"C:\\\\Users\\\\809210\\\\Desktop\\\\l____l\\\\CITEC\\\\dataset\\\\CrispWinter\\\\7731.jpg\"\n",
    "img1 = \"C:\\\\Users\\\\809210\\\\Desktop\\\\l____l\\\\CITEC\\\\train-org-img\\\\7731.jpg\"\n",
    "\n",
    "with tqdm(total=640*480) as pbar:\n",
    "    print(calculate_cie2000(img2, img1, pbar))"
   ]
  }
 ],
 "metadata": {
  "kernelspec": {
   "display_name": "Python 3 (ipykernel)",
   "language": "python",
   "name": "python3"
  },
  "language_info": {
   "codemirror_mode": {
    "name": "ipython",
    "version": 3
   },
   "file_extension": ".py",
   "mimetype": "text/x-python",
   "name": "python",
   "nbconvert_exporter": "python",
   "pygments_lexer": "ipython3",
   "version": "3.9.6"
  }
 },
 "nbformat": 4,
 "nbformat_minor": 5
}
